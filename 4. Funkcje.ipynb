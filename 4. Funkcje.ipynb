{
 "cells": [
  {
   "cell_type": "markdown",
   "metadata": {},
   "source": [
    "# Funkcje"
   ]
  },
  {
   "cell_type": "markdown",
   "metadata": {},
   "source": [
    "## Definiowanie Fukncji"
   ]
  },
  {
   "cell_type": "markdown",
   "metadata": {},
   "source": [
    "- Widzieliśmy już pętle for jako sposób na przestrzeganie zasady DRY (Don't Repeat Yourself).\n",
    "- Następnym ważnym krokiem są funkcje.\n",
    "- Funkcje umożliwiają zaprogramowanie bloku kodu, który działa tylko po wywołaniu.\n",
    "- Oznacza to, że możemy uniknąć konieczności ponownego definiowania tych samych operacji, gdy wykonujemy je wielokrotnie.\n",
    "<br><br>\n",
    "- Funkcja przyjmuje parametry i zwraca dane wyjściowe.\n",
    "- Wartość przekazana jako parametr nazywana jest argumentem.\n",
    "- Funkcja powiązana z obiektem nazywana jest metodą.\n",
    "- Instancja funkcji nazywana jest wywołaniem funkcji.\n",
    "- Podstawowa składnia funkcji jest następująca:"
   ]
  },
  {
   "cell_type": "code",
   "execution_count": null,
   "metadata": {},
   "outputs": [],
   "source": [
    "# function definition\n",
    "def function_name (param1, param2 = 1):\n",
    "    '''\n",
    "    DOCSTRING: explains function\n",
    "    INPUT: Name (str)\n",
    "    OUTPUT: Hello Name (str)\n",
    "    '''\n",
    "    # add code to run\n",
    "    return(\"Hello \" + param1)"
   ]
  },
  {
   "cell_type": "code",
   "execution_count": null,
   "metadata": {},
   "outputs": [],
   "source": [
    "# function call\n",
    "function_name(\"Zain\")"
   ]
  },
  {
   "cell_type": "code",
   "execution_count": null,
   "metadata": {},
   "outputs": [],
   "source": [
    "function_name"
   ]
  },
  {
   "cell_type": "markdown",
   "metadata": {},
   "source": [
    "- Słowo kluczowe __def__ pokazuje pythona, którego zamierzasz zdefiniować.\n",
    "- __Nazwa funkcji__ jest następna, nazwij wszystkie małe litery, oddzielone podkreśleniami, nie używaj wbudowanych słów kluczowych: zobacz PEP8 po szczegóły.\n",
    "- __Parametry__ zdefiniowane w nawiasach.\n",
    "- __Argumenty domyślne__ to argumenty, które mają wartość domyślną do przywrócenia, jeśli nie określono innej wartości. W tym przypadku param2 = 1 oznacza, że ​​param2 będzie wynosić 1, chyba że zostanie określone jako coś innego w wywołaniu funkcji.\n",
    "- __Dwukropek__ oznacza koniec linii definicji, następny wiersz będzie wcięty.\n",
    "- __Docstrings__ wyjaśnij, co robi funkcja: przeczytaj PEP257 lub google __*'python docstrings'*__, aby uzyskać wskazówki.\n",
    "- https://www.python.org/dev/peps/pep-0257/\n",
    "- Słowo kluczowe __return__ wskazuje wyjście funkcji.\n",
    "<br><br>\n",
    "- Wykonując wywołanie funkcji, piszemy nazwę funkcji, a po niej nawiasy zawierające argumenty do przekazania.\n",
    "- __POWOLNY BŁĄD: jeśli wywołasz funkcję bez nawiasów, nie będzie działać!!!__\n",
    "- Po prostu pokaże informacje o funkcji, w tym moduł, do którego należy, jej nazwę i parametry, które przyjmuje."
   ]
  },
  {
   "cell_type": "markdown",
   "metadata": {},
   "source": [
    "## help()"
   ]
  },
  {
   "cell_type": "markdown",
   "metadata": {},
   "source": [
    "- Możemy użyć funkcji help(), aby znaleźć dokumentację, jeśli nie wiemy, co robi funkcja.\n",
    "- Lub naciśnij Shift + Tab.\n",
    "- Aby uzyskać bardziej szczegółową dokumentację, lepiej znaleźć i wykorzystać pełną dokumentację funkcji (google it!)."
   ]
  },
  {
   "cell_type": "code",
   "execution_count": null,
   "metadata": {},
   "outputs": [],
   "source": [
    "help(function_name)"
   ]
  },
  {
   "cell_type": "code",
   "execution_count": null,
   "metadata": {},
   "outputs": [],
   "source": [
    "help(print)"
   ]
  },
  {
   "cell_type": "markdown",
   "metadata": {},
   "source": [
    "## Zakres zmiennej"
   ]
  },
  {
   "cell_type": "markdown",
   "metadata": {},
   "source": [
    "- Zakres zmiennej odnosi się do części programu, które mogą odwoływać się do zmiennej.\n",
    "- Istnieją 2 rodzaje zasięgu: lokalny i globalny.\n",
    "— Do zmiennej zdefiniowanej wewnątrz funkcji można się odwoływać tylko wewnątrz tej funkcji: zakres lokalny.\n",
    "— Do zmiennej zdefiniowanej poza funkcją (w ogólnym skrypcie) można się odwoływać wewnątrz funkcji, ale nie można jej modyfikować wewnątrz funkcji (UnboundLocalError).\n",
    "- Aby zmienić go w funkcji, należy go ponownie zdefiniować w funkcji."
   ]
  },
  {
   "cell_type": "code",
   "execution_count": null,
   "metadata": {},
   "outputs": [],
   "source": [
    "counter = 0\n",
    "\n",
    "def add_to_counter():\n",
    "    counter += 12 # add 12 to counter\n",
    "\n",
    "add_to_counter()"
   ]
  },
  {
   "cell_type": "code",
   "execution_count": null,
   "metadata": {},
   "outputs": [],
   "source": [
    "counter = 0\n",
    "\n",
    "def add_to_counter(count):\n",
    "    return count + 12  # add 12 to counter\n",
    "\n",
    "counter = add_to_counter(counter)\n",
    "\n",
    "print(counter)"
   ]
  },
  {
   "cell_type": "markdown",
   "metadata": {},
   "source": [
    "## Ćwiczenie 1"
   ]
  },
  {
   "cell_type": "markdown",
   "metadata": {},
   "source": [
    "Napisz funkcję o nazwie check_range, która sprawdza, czy liczba znajduje się w podanym zakresie (zawiera zarówno niski *__i__* wysoki). <br>\n",
    "Jeśli tak, zwróć „x jest między y a z”. <br>\n",
    "Jeśli tak nie jest, zwróć „x NIE jest między y a z”. <br>\n",
    "Gdzie:\n",
    "- x to liczba\n",
    "- y jest dolną granicą\n",
    "- z to górna granica"
   ]
  },
  {
   "cell_type": "code",
   "execution_count": 1,
   "metadata": {
    "ExecuteTime": {
     "end_time": "2023-10-01T11:21:53.146567Z",
     "start_time": "2023-10-01T11:21:53.140967Z"
    }
   },
   "outputs": [],
   "source": [
    "def check_range(x, y, z):\n",
    "    if x >= y and x <= z:\n",
    "        print(f\"{x} is between {y} and {z}\")\n",
    "    else:\n",
    "        print(f\"{x} is NOT between {y} and {z}\")\n",
    "    "
   ]
  },
  {
   "cell_type": "code",
   "execution_count": 2,
   "metadata": {
    "ExecuteTime": {
     "end_time": "2023-10-01T11:21:54.067194Z",
     "start_time": "2023-10-01T11:21:54.063997Z"
    }
   },
   "outputs": [
    {
     "name": "stdout",
     "output_type": "stream",
     "text": [
      "34 is between 9 and 228\n"
     ]
    }
   ],
   "source": [
    "check_range(34, 9, 228)"
   ]
  },
  {
   "cell_type": "code",
   "execution_count": 3,
   "metadata": {
    "ExecuteTime": {
     "end_time": "2023-10-01T11:21:55.622494Z",
     "start_time": "2023-10-01T11:21:55.616Z"
    }
   },
   "outputs": [
    {
     "name": "stdout",
     "output_type": "stream",
     "text": [
      "7 is NOT between 2 and 5\n"
     ]
    }
   ],
   "source": [
    "check_range(7, 2, 5)"
   ]
  },
  {
   "cell_type": "markdown",
   "metadata": {},
   "source": [
    "Napisz funkcję o nazwie bool_range, która robi to samo, ale zwraca tylko wartość logiczną."
   ]
  },
  {
   "cell_type": "code",
   "execution_count": 4,
   "metadata": {
    "ExecuteTime": {
     "end_time": "2023-10-01T11:22:06.260273Z",
     "start_time": "2023-10-01T11:22:06.256942Z"
    }
   },
   "outputs": [],
   "source": [
    "def bool_range(x, y, z):\n",
    "    if x >= y and x <= z:\n",
    "        return True\n",
    "    else:\n",
    "        return False"
   ]
  },
  {
   "cell_type": "code",
   "execution_count": 5,
   "metadata": {
    "ExecuteTime": {
     "end_time": "2023-10-01T11:22:06.700442Z",
     "start_time": "2023-10-01T11:22:06.697352Z"
    }
   },
   "outputs": [
    {
     "data": {
      "text/plain": "True"
     },
     "execution_count": 5,
     "metadata": {},
     "output_type": "execute_result"
    }
   ],
   "source": [
    "bool_range(7, 5, 20)"
   ]
  },
  {
   "cell_type": "code",
   "execution_count": 6,
   "metadata": {
    "ExecuteTime": {
     "end_time": "2023-10-01T11:22:07.398864Z",
     "start_time": "2023-10-01T11:22:07.394229Z"
    }
   },
   "outputs": [
    {
     "data": {
      "text/plain": "False"
     },
     "execution_count": 6,
     "metadata": {},
     "output_type": "execute_result"
    }
   ],
   "source": [
    "bool_range(67, 22, 25)"
   ]
  },
  {
   "cell_type": "markdown",
   "metadata": {},
   "source": [
    "## Ćwiczenie 2"
   ]
  },
  {
   "cell_type": "markdown",
   "metadata": {},
   "source": [
    "Napisz funkcję o nazwie unique_list, która pobiera listę i zwraca listę zawierającą tylko unikalne elementy danych wejściowych."
   ]
  },
  {
   "cell_type": "code",
   "execution_count": 7,
   "metadata": {
    "ExecuteTime": {
     "end_time": "2023-10-01T11:22:58.342516Z",
     "start_time": "2023-10-01T11:22:58.332775Z"
    }
   },
   "outputs": [],
   "source": [
    "def unique_list(my_list):\n",
    "    return list(set(my_list))"
   ]
  },
  {
   "cell_type": "code",
   "execution_count": 8,
   "metadata": {
    "ExecuteTime": {
     "end_time": "2023-10-01T11:22:59.089826Z",
     "start_time": "2023-10-01T11:22:59.085687Z"
    }
   },
   "outputs": [
    {
     "data": {
      "text/plain": "[1, 2, 3, 4, 5, 6, 12, 63]"
     },
     "execution_count": 8,
     "metadata": {},
     "output_type": "execute_result"
    }
   ],
   "source": [
    "my_list = [1,3,5,6,4,3,2,3,3,4,3,4,5,6,6,4,3,2,12,3,5,63,4,5,3,3,2]\n",
    "\n",
    "unique_list(my_list)"
   ]
  },
  {
   "cell_type": "markdown",
   "metadata": {},
   "source": [
    "Znajdź inny sposób wykonania tej samej operacji bez definiowania funkcji."
   ]
  },
  {
   "cell_type": "code",
   "execution_count": 9,
   "metadata": {
    "ExecuteTime": {
     "end_time": "2023-10-01T11:23:13.918548Z",
     "start_time": "2023-10-01T11:23:13.914734Z"
    }
   },
   "outputs": [
    {
     "data": {
      "text/plain": "[1, 2, 3, 4, 5, 6, 12, 63]"
     },
     "execution_count": 9,
     "metadata": {},
     "output_type": "execute_result"
    }
   ],
   "source": [
    "list(set(my_list))"
   ]
  },
  {
   "cell_type": "markdown",
   "metadata": {},
   "source": [
    "## Ćwiczenie 3"
   ]
  },
  {
   "cell_type": "markdown",
   "metadata": {},
   "source": [
    "Napisz funkcję o nazwie objętość_kuli, która przyjmuje promień kuli i zwraca jej objętość zaokrągloną do 2 dp. (Google wzór na objętość kuli, użyj pi = 3,14)"
   ]
  },
  {
   "cell_type": "code",
   "execution_count": 10,
   "metadata": {
    "ExecuteTime": {
     "end_time": "2023-10-01T11:23:50.111852Z",
     "start_time": "2023-10-01T11:23:50.109739Z"
    }
   },
   "outputs": [],
   "source": [
    "def volume_of_sphere(radius):\n",
    "    pi = 3.14\n",
    "    return round(4/3 * pi * radius**3, 2)"
   ]
  },
  {
   "cell_type": "code",
   "execution_count": 11,
   "metadata": {
    "ExecuteTime": {
     "end_time": "2023-10-01T11:23:50.779325Z",
     "start_time": "2023-10-01T11:23:50.776700Z"
    }
   },
   "outputs": [
    {
     "data": {
      "text/plain": "33.49"
     },
     "execution_count": 11,
     "metadata": {},
     "output_type": "execute_result"
    }
   ],
   "source": [
    "volume_of_sphere(2)"
   ]
  },
  {
   "cell_type": "markdown",
   "metadata": {},
   "source": [
    "## Rekurencja"
   ]
  },
  {
   "cell_type": "markdown",
   "metadata": {},
   "source": [
    "- Funkcja rekurencyjna to funkcja, która wywołuje siebie w ramach swojej definicji.\n",
    "- Na początku może to być trudne do zrozumienia, ale pomyśl o tym jako o przełamaniu dużego problemu w wielokrotne robienie małego problemu.\n",
    "- Oznacza to, że złożony problem można uprościć, powtarzając przy każdym powtórzeniu prostszą i prostszą formę tego samego problemu.\n",
    "- Musimy jednak podać „najprostszą formę” funkcji, w której funkcja się zatrzymuje, w przeciwnym razie będzie się powtarzać w nieskończoność i wygeneruje błąd.\n",
    "- Nazywamy tę „najprostszą formę” przypadkiem podstawowym.\n",
    "- Najlepiej ilustruje to przykład:"
   ]
  },
  {
   "cell_type": "code",
   "execution_count": 12,
   "metadata": {
    "ExecuteTime": {
     "end_time": "2023-10-01T11:24:06.075213Z",
     "start_time": "2023-10-01T11:24:06.063359Z"
    }
   },
   "outputs": [
    {
     "name": "stdout",
     "output_type": "stream",
     "text": [
      "5\n",
      "4\n",
      "3\n",
      "2\n",
      "1\n",
      "0\n"
     ]
    }
   ],
   "source": [
    "# Funkcja, która przyjmuje jako wejście liczbę początkową do odliczania\n",
    "def countdown(n):\n",
    "    \n",
    "    # przypadek podstawowy: w tym miejscu funkcja ostatecznie się zatrzyma\n",
    "    if n == 0:\n",
    "        print(0)\n",
    "        \n",
    "    # tutaj redukujemy problem do prostszej wersji\n",
    "    else:\n",
    "        \n",
    "        #wypisujemy numer odliczania\n",
    "        print(n)\n",
    "        \n",
    "        # powtarzamy funkcję z następną najmniejszą liczbą\n",
    "        countdown(n-1)\n",
    "        \n",
    "\n",
    "countdown(5)"
   ]
  },
  {
   "cell_type": "code",
   "execution_count": null,
   "metadata": {},
   "outputs": [],
   "source": []
  },
  {
   "cell_type": "markdown",
   "metadata": {},
   "source": [
    "## Ćwiczenie 4"
   ]
  },
  {
   "cell_type": "markdown",
   "metadata": {},
   "source": [
    "Zdefiniuj funkcję rekurencyjną o nazwie num_fact, która zwraca silnię podanej liczby."
   ]
  },
  {
   "cell_type": "code",
   "execution_count": 13,
   "metadata": {
    "ExecuteTime": {
     "end_time": "2023-10-01T11:24:20.077352Z",
     "start_time": "2023-10-01T11:24:20.075138Z"
    }
   },
   "outputs": [],
   "source": [
    "def num_fact(n):\n",
    "    if n == 0:\n",
    "        return 1\n",
    "    else:\n",
    "        return n * num_fact(n-1)"
   ]
  },
  {
   "cell_type": "code",
   "execution_count": 14,
   "metadata": {
    "ExecuteTime": {
     "end_time": "2023-10-01T11:24:20.359895Z",
     "start_time": "2023-10-01T11:24:20.356838Z"
    }
   },
   "outputs": [
    {
     "data": {
      "text/plain": "3628800"
     },
     "execution_count": 14,
     "metadata": {},
     "output_type": "execute_result"
    }
   ],
   "source": [
    "num_fact(10)"
   ]
  },
  {
   "cell_type": "markdown",
   "metadata": {},
   "source": [
    "## Dalsza lektura\n",
    "- Python Function Definitions: https://docs.python.org/3/reference/compound_stmts.html#function-definitions\n",
    "- Python Docstring Conventions: https://www.python.org/dev/peps/pep-0257/"
   ]
  }
 ],
 "metadata": {
  "kernelspec": {
   "display_name": "Python 3",
   "language": "python",
   "name": "python3"
  },
  "language_info": {
   "codemirror_mode": {
    "name": "ipython",
    "version": 3
   },
   "file_extension": ".py",
   "mimetype": "text/x-python",
   "name": "python",
   "nbconvert_exporter": "python",
   "pygments_lexer": "ipython3",
   "version": "3.7.6"
  }
 },
 "nbformat": 4,
 "nbformat_minor": 2
}
