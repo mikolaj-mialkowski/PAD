{
 "nbformat": 4,
 "nbformat_minor": 0,
 "metadata": {
  "colab": {
   "provenance": [],
   "authorship_tag": "ABX9TyPfvCA8avt9JyH+RrMyhpFb"
  },
  "kernelspec": {
   "name": "python3",
   "language": "python",
   "display_name": "Python 3 (ipykernel)"
  },
  "language_info": {
   "name": "python"
  }
 },
 "cells": [
  {
   "cell_type": "markdown",
   "source": [
    "## iterator"
   ],
   "metadata": {
    "id": "YBf77-O2VMaK"
   }
  },
  {
   "cell_type": "code",
   "execution_count": 30,
   "metadata": {
    "id": "MobBtdWEVEu1",
    "ExecuteTime": {
     "end_time": "2023-10-28T09:44:53.472899Z",
     "start_time": "2023-10-28T09:44:53.463614Z"
    }
   },
   "outputs": [
    {
     "data": {
      "text/plain": "'\\nZadanie 1\\nZaimplementuj własny iterator o nazwie tetranacci, zwracający kolejne liczby ciągu Tetranacciego.\\nFunkcja __init__ powinna posiadać parametr o nazwie steps określający liczbę wyrazów ciągu,\\npo których funkcja __next__ rzuca wyjątek StopIteration.\\nNapisz program, w którym wykorzystasz swój iterator do wypisania na ekranie kolejnych wyrazów tego ciągu.\\nNiech liczbę wyrazów do wypisania podaje użytkownik.\\n\\n'"
     },
     "execution_count": 30,
     "metadata": {},
     "output_type": "execute_result"
    }
   ],
   "source": [
    "'''\n",
    "Zadanie 1\n",
    "Zaimplementuj własny iterator o nazwie tetranacci, zwracający kolejne liczby ciągu Tetranacciego.\n",
    "Funkcja __init__ powinna posiadać parametr o nazwie steps określający liczbę wyrazów ciągu,\n",
    "po których funkcja __next__ rzuca wyjątek StopIteration.\n",
    "Napisz program, w którym wykorzystasz swój iterator do wypisania na ekranie kolejnych wyrazów tego ciągu.\n",
    "Niech liczbę wyrazów do wypisania podaje użytkownik.\n",
    "\n",
    "'''"
   ]
  },
  {
   "cell_type": "code",
   "execution_count": 31,
   "outputs": [],
   "source": [
    "class Tetranacci:\n",
    "    def __init__(self, steps):\n",
    "        self.steps = steps\n",
    "        self.counter = 0\n",
    "        self.values = [0, 0, 0, 1]\n",
    "    \n",
    "    def __iter__(self):\n",
    "        return self\n",
    "    \n",
    "    def __next__(self):\n",
    "        if self.counter == self.steps:\n",
    "            raise StopIteration\n",
    "        \n",
    "        self.counter += 1\n",
    "        if self.counter <= 4:\n",
    "            return self.values[self.counter-1]\n",
    "        else:\n",
    "            next_value = sum(self.values)\n",
    "            self.values = self.values[1:] + [next_value]\n",
    "            return next_value\n",
    "            "
   ],
   "metadata": {
    "collapsed": false,
    "ExecuteTime": {
     "end_time": "2023-10-28T09:44:53.912862Z",
     "start_time": "2023-10-28T09:44:53.910874Z"
    }
   }
  },
  {
   "cell_type": "code",
   "execution_count": 32,
   "outputs": [
    {
     "name": "stdout",
     "output_type": "stream",
     "text": [
      "0\n",
      "0\n",
      "0\n",
      "1\n",
      "1\n",
      "2\n",
      "4\n",
      "8\n",
      "15\n",
      "29\n",
      "56\n",
      "108\n"
     ]
    }
   ],
   "source": [
    "steps = int(input(\"Podaj liczbę wyrazów ciągu: \"))\n",
    "tetranacci = Tetranacci(steps)\n",
    "for i in tetranacci:\n",
    "    print(i)"
   ],
   "metadata": {
    "collapsed": false,
    "ExecuteTime": {
     "end_time": "2023-10-28T09:44:57.511440Z",
     "start_time": "2023-10-28T09:44:54.247598Z"
    }
   }
  },
  {
   "cell_type": "markdown",
   "source": [
    "## generator"
   ],
   "metadata": {
    "id": "HgA0kNjTVXwG"
   }
  },
  {
   "cell_type": "code",
   "source": [
    "'''\n",
    "Zadanie 2\n",
    "Zaimplementuj własny generator o nazwie accumulate,\n",
    "zwracający kolejne sumy elementów z podanego obiektu iterowalnego.\n",
    "'''"
   ],
   "metadata": {
    "id": "hl3BhofyVdoH",
    "ExecuteTime": {
     "end_time": "2023-10-28T09:44:58.868126Z",
     "start_time": "2023-10-28T09:44:58.859249Z"
    }
   },
   "execution_count": 33,
   "outputs": [
    {
     "data": {
      "text/plain": "'\\nZadanie 2\\nZaimplementuj własny generator o nazwie accumulate,\\nzwracający kolejne sumy elementów z podanego obiektu iterowalnego.\\n'"
     },
     "execution_count": 33,
     "metadata": {},
     "output_type": "execute_result"
    }
   ]
  },
  {
   "cell_type": "code",
   "execution_count": 34,
   "outputs": [],
   "source": [
    "def accumulate(iterable):\n",
    "    sum = 0\n",
    "    for i in iterable:\n",
    "        sum += i\n",
    "        yield sum"
   ],
   "metadata": {
    "collapsed": false,
    "ExecuteTime": {
     "end_time": "2023-10-28T09:44:59.360886Z",
     "start_time": "2023-10-28T09:44:59.359320Z"
    }
   }
  },
  {
   "cell_type": "code",
   "execution_count": 35,
   "outputs": [],
   "source": [
    "test_list = [1, 2, 3, 4, 5]\n",
    "acc = accumulate(test_list)"
   ],
   "metadata": {
    "collapsed": false,
    "ExecuteTime": {
     "end_time": "2023-10-28T09:44:59.710337Z",
     "start_time": "2023-10-28T09:44:59.707155Z"
    }
   }
  },
  {
   "cell_type": "code",
   "execution_count": 36,
   "outputs": [
    {
     "name": "stdout",
     "output_type": "stream",
     "text": [
      "1\n"
     ]
    }
   ],
   "source": [
    "print(next(acc))"
   ],
   "metadata": {
    "collapsed": false,
    "ExecuteTime": {
     "end_time": "2023-10-28T09:45:00.151658Z",
     "start_time": "2023-10-28T09:45:00.146679Z"
    }
   }
  },
  {
   "cell_type": "code",
   "source": [
    "'''\n",
    "Zadanie 3\n",
    "\n",
    "Napisz własny dekorator o nazwie hello. Wynikiem jego działania powinno być:\n",
    "• wypisanie na ekranie napisu hello\n",
    "• wywołanie funkcji przekazanej jako argument.\n",
    "'''"
   ],
   "metadata": {
    "id": "ffhbiOTJVnmB",
    "ExecuteTime": {
     "end_time": "2023-10-28T09:45:00.715622Z",
     "start_time": "2023-10-28T09:45:00.712626Z"
    }
   },
   "execution_count": 37,
   "outputs": [
    {
     "data": {
      "text/plain": "'\\nZadanie 3\\n\\nNapisz własny dekorator o nazwie hello. Wynikiem jego działania powinno być:\\n• wypisanie na ekranie napisu hello\\n• wywołanie funkcji przekazanej jako argument.\\n'"
     },
     "execution_count": 37,
     "metadata": {},
     "output_type": "execute_result"
    }
   ]
  },
  {
   "cell_type": "code",
   "execution_count": 38,
   "outputs": [],
   "source": [
    "def hello(func):\n",
    "    def wrapper(*args, **kwargs):\n",
    "        print(\"hello\")\n",
    "        return func(*args, **kwargs)\n",
    "    return wrapper\n",
    "\n",
    "@hello\n",
    "def world():\n",
    "    print(\"World\")"
   ],
   "metadata": {
    "collapsed": false,
    "ExecuteTime": {
     "end_time": "2023-10-28T09:45:01.033437Z",
     "start_time": "2023-10-28T09:45:01.030355Z"
    }
   }
  },
  {
   "cell_type": "code",
   "execution_count": 39,
   "outputs": [
    {
     "name": "stdout",
     "output_type": "stream",
     "text": [
      "hello\n",
      "World\n"
     ]
    }
   ],
   "source": [
    "world()"
   ],
   "metadata": {
    "collapsed": false,
    "ExecuteTime": {
     "end_time": "2023-10-28T09:45:01.397228Z",
     "start_time": "2023-10-28T09:45:01.394425Z"
    }
   }
  },
  {
   "cell_type": "code",
   "source": [
    "'''\n",
    "Zadanie 4\n",
    "Zaimplementuj własną funkcję o nazwie tetranacci, zwracający określony element ciągu Tetranacciego.\n",
    "Funkcja powinna posiadać parametr o nazwie n określający numer wyrazu ciągu do obliczenia.\n",
    "Obliczenia wykonuj rekurencyjnie.\n",
    "'''"
   ],
   "metadata": {
    "id": "NjZRSS6sVrm5",
    "ExecuteTime": {
     "end_time": "2023-10-28T09:45:01.805811Z",
     "start_time": "2023-10-28T09:45:01.802644Z"
    }
   },
   "execution_count": 40,
   "outputs": [
    {
     "data": {
      "text/plain": "'\\nZadanie 4\\nZaimplementuj własną funkcję o nazwie tetranacci, zwracający określony element ciągu Tetranacciego.\\nFunkcja powinna posiadać parametr o nazwie n określający numer wyrazu ciągu do obliczenia.\\nObliczenia wykonuj rekurencyjnie.\\n'"
     },
     "execution_count": 40,
     "metadata": {},
     "output_type": "execute_result"
    }
   ]
  },
  {
   "cell_type": "code",
   "execution_count": 41,
   "outputs": [],
   "source": [
    "def tetranacci(n):\n",
    "    if n <= 0:\n",
    "        return 0\n",
    "    elif n <= 3:\n",
    "        return 0\n",
    "    elif n == 4:\n",
    "        return 1\n",
    "    else:\n",
    "        return tetranacci(n-1) + tetranacci(n-2) + tetranacci(n-3) + tetranacci(n-4)"
   ],
   "metadata": {
    "collapsed": false,
    "ExecuteTime": {
     "end_time": "2023-10-28T09:45:02.304244Z",
     "start_time": "2023-10-28T09:45:02.301636Z"
    }
   }
  },
  {
   "cell_type": "code",
   "execution_count": 42,
   "outputs": [
    {
     "data": {
      "text/plain": "0"
     },
     "execution_count": 42,
     "metadata": {},
     "output_type": "execute_result"
    }
   ],
   "source": [
    "tetranacci(0)"
   ],
   "metadata": {
    "collapsed": false,
    "ExecuteTime": {
     "end_time": "2023-10-28T09:45:02.760235Z",
     "start_time": "2023-10-28T09:45:02.753311Z"
    }
   }
  },
  {
   "cell_type": "markdown",
   "source": [
    "## klasy"
   ],
   "metadata": {
    "id": "eDFgAg3cWRAk"
   }
  },
  {
   "cell_type": "code",
   "source": [
    "'''\n",
    "Zadanie 5\n",
    "Stwórz klasę Pojazd z atrybutami predkosc_max i przebieg\n",
    "stwórz instancję klasy i wydrukuj jej atrybuty do konsoli\n",
    "tworzac instancję możesz podać dowolne wielkości\n",
    "'''"
   ],
   "metadata": {
    "id": "LMrKGhhSWMM8",
    "ExecuteTime": {
     "end_time": "2023-10-28T09:45:03.446157Z",
     "start_time": "2023-10-28T09:45:03.443704Z"
    }
   },
   "execution_count": 43,
   "outputs": [
    {
     "data": {
      "text/plain": "'\\nZadanie 5\\nStwórz klasę Pojazd z atrybutami predkosc_max i przebieg\\nstwórz instancję klasy i wydrukuj jej atrybuty do konsoli\\ntworzac instancję możesz podać dowolne wielkości\\n'"
     },
     "execution_count": 43,
     "metadata": {},
     "output_type": "execute_result"
    }
   ]
  },
  {
   "cell_type": "code",
   "execution_count": 44,
   "outputs": [],
   "source": [
    "class Pojazd:\n",
    "    def __init__(self, predkosc_max, przebieg):\n",
    "        self.predkosc_max = predkosc_max\n",
    "        self.przebieg = przebieg\n",
    "\n",
    "pojazd = Pojazd(predkosc_max=100, przebieg=1000)        "
   ],
   "metadata": {
    "collapsed": false,
    "ExecuteTime": {
     "end_time": "2023-10-28T09:45:03.907596Z",
     "start_time": "2023-10-28T09:45:03.904644Z"
    }
   }
  },
  {
   "cell_type": "code",
   "execution_count": 45,
   "outputs": [
    {
     "name": "stdout",
     "output_type": "stream",
     "text": [
      "100\n"
     ]
    }
   ],
   "source": [
    "print(pojazd.predkosc_max)"
   ],
   "metadata": {
    "collapsed": false,
    "ExecuteTime": {
     "end_time": "2023-10-28T09:45:04.289868Z",
     "start_time": "2023-10-28T09:45:04.287015Z"
    }
   }
  },
  {
   "cell_type": "code",
   "source": [
    "'''\n",
    "Zadanie 6\n",
    "Stwórz klasę Autobus, która dziedziczy po Pojeździe utworzonym wcześniej,\n",
    "ale do atrybutów Pojazdu dodaj jeszcze nazwę modelu\n",
    "stwórz instancję klasy i wydrukuj jej atrybuty\n",
    "'''"
   ],
   "metadata": {
    "id": "z_dYT1f5Wexv",
    "ExecuteTime": {
     "end_time": "2023-10-28T09:45:04.771022Z",
     "start_time": "2023-10-28T09:45:04.768967Z"
    }
   },
   "execution_count": 46,
   "outputs": [
    {
     "data": {
      "text/plain": "'\\nZadanie 6\\nStwórz klasę Autobus, która dziedziczy po Pojeździe utworzonym wcześniej,\\nale do atrybutów Pojazdu dodaj jeszcze nazwę modelu\\nstwórz instancję klasy i wydrukuj jej atrybuty\\n'"
     },
     "execution_count": 46,
     "metadata": {},
     "output_type": "execute_result"
    }
   ]
  },
  {
   "cell_type": "code",
   "execution_count": 47,
   "outputs": [],
   "source": [
    "class Autobus(Pojazd):\n",
    "    def __init__(self, predkosc_max, przebieg, model):\n",
    "        super().__init__(predkosc_max, przebieg)\n",
    "        self.model = model\n",
    "        \n",
    "auto = Autobus(predkosc_max=100, przebieg=1000, model=\"Solaris\")        "
   ],
   "metadata": {
    "collapsed": false,
    "ExecuteTime": {
     "end_time": "2023-10-28T09:45:05.112826Z",
     "start_time": "2023-10-28T09:45:05.110033Z"
    }
   }
  },
  {
   "cell_type": "code",
   "execution_count": 48,
   "outputs": [
    {
     "name": "stdout",
     "output_type": "stream",
     "text": [
      "Solaris\n"
     ]
    }
   ],
   "source": [
    "print(auto.model)"
   ],
   "metadata": {
    "collapsed": false,
    "ExecuteTime": {
     "end_time": "2023-10-28T09:45:05.584213Z",
     "start_time": "2023-10-28T09:45:05.580934Z"
    }
   }
  },
  {
   "cell_type": "code",
   "source": [
    "'''\n",
    "Zadanie 7\n",
    "klasie Pojazd utwórz metodę liczba_miejsc, która będzie przyjmowała jako argument liczbę miejsc i wyświetlała komunikat:\n",
    "\"{TU WSTAWIMY NAZWE POJAZDU} pomieści {LICZBA MIEJSC} osób.\"\n",
    "Klasa Autobus ma też dziedziczyć tę metodę, ale dodatkowo przyjmować wartość domyślną dla liczby miejsc = 50\n",
    "Utwórz instancję klasy aby zaprezentować działanie\n",
    "'''"
   ],
   "metadata": {
    "id": "CDj9cBQoWj-v",
    "ExecuteTime": {
     "end_time": "2023-10-28T09:45:06.013058Z",
     "start_time": "2023-10-28T09:45:06.010291Z"
    }
   },
   "execution_count": 49,
   "outputs": [
    {
     "data": {
      "text/plain": "'\\nZadanie 7\\nklasie Pojazd utwórz metodę liczba_miejsc, która będzie przyjmowała jako argument liczbę miejsc i wyświetlała komunikat:\\n\"{TU WSTAWIMY NAZWE POJAZDU} pomieści {LICZBA MIEJSC} osób.\"\\nKlasa Autobus ma też dziedziczyć tę metodę, ale dodatkowo przyjmować wartość domyślną dla liczby miejsc = 50\\nUtwórz instancję klasy aby zaprezentować działanie\\n'"
     },
     "execution_count": 49,
     "metadata": {},
     "output_type": "execute_result"
    }
   ]
  },
  {
   "cell_type": "code",
   "execution_count": 50,
   "outputs": [],
   "source": [
    "class Pojazd:\n",
    "    def __init__(self, predkosc_max, przebieg):\n",
    "        self.predkosc_max = predkosc_max\n",
    "        self.przebieg = przebieg\n",
    "        \n",
    "    def liczba_miejsc(self, liczba_miejsc):\n",
    "        print(f\"Pojazd pomieści {liczba_miejsc} osób.\")\n",
    "        \n",
    "class Autobus(Pojazd):\n",
    "    def __init__(self, predkosc_max, przebieg, model):\n",
    "        super().__init__(predkosc_max, przebieg)\n",
    "        self.model = model\n",
    "        \n",
    "    def liczba_miejsc(self, liczba_miejsc=50):\n",
    "        print(f\"{self.model} pomieści {liczba_miejsc} osób.\")"
   ],
   "metadata": {
    "collapsed": false,
    "ExecuteTime": {
     "end_time": "2023-10-28T09:45:06.358862Z",
     "start_time": "2023-10-28T09:45:06.356118Z"
    }
   }
  },
  {
   "cell_type": "code",
   "execution_count": 51,
   "outputs": [
    {
     "name": "stdout",
     "output_type": "stream",
     "text": [
      "Pojazd pomieści 10 osób.\n",
      "Solaris pomieści 50 osób.\n"
     ]
    }
   ],
   "source": [
    "pojazd = Pojazd(predkosc_max=100, przebieg=1000)\n",
    "autobus = Autobus(predkosc_max=100, przebieg=1000, model=\"Solaris\")\n",
    "\n",
    "pojazd.liczba_miejsc(10)\n",
    "autobus.liczba_miejsc()"
   ],
   "metadata": {
    "collapsed": false,
    "ExecuteTime": {
     "end_time": "2023-10-28T09:45:07.290087Z",
     "start_time": "2023-10-28T09:45:07.281813Z"
    }
   }
  },
  {
   "cell_type": "code",
   "source": [
    "'''\n",
    "Zadanie 8\n",
    "Sprawdź czy obiekt autobus jest instancją klasy Pojazd\n",
    "'''"
   ],
   "metadata": {
    "id": "y2s80EMmWrKP",
    "ExecuteTime": {
     "end_time": "2023-10-28T09:45:08.013792Z",
     "start_time": "2023-10-28T09:45:08.011635Z"
    }
   },
   "execution_count": 52,
   "outputs": [
    {
     "data": {
      "text/plain": "'\\nZadanie 8\\nSprawdź czy obiekt autobus jest instancją klasy Pojazd\\n'"
     },
     "execution_count": 52,
     "metadata": {},
     "output_type": "execute_result"
    }
   ]
  },
  {
   "cell_type": "code",
   "execution_count": 53,
   "outputs": [
    {
     "data": {
      "text/plain": "True"
     },
     "execution_count": 53,
     "metadata": {},
     "output_type": "execute_result"
    }
   ],
   "source": [
    "isinstance(autobus, Pojazd)"
   ],
   "metadata": {
    "collapsed": false,
    "ExecuteTime": {
     "end_time": "2023-10-28T09:45:08.671622Z",
     "start_time": "2023-10-28T09:45:08.664872Z"
    }
   }
  },
  {
   "cell_type": "markdown",
   "source": [
    "## PRACA DOMOWA (15 pkt)"
   ],
   "metadata": {
    "id": "jjNBmv7pVwP_"
   }
  },
  {
   "cell_type": "code",
   "source": [
    "'''\n",
    "Zadanie 1 (4 pkt)\n",
    "Wykorzystując dekoratory, napisz cache dla funkcji tetranacci z poprzedniego zadania.\n",
    "Ten dekorator powinien zapobiegać przed ponownym obliczaniem tych samych wartości.\n",
    "'''"
   ],
   "metadata": {
    "id": "TTUMq_uuVx32",
    "ExecuteTime": {
     "end_time": "2023-10-28T09:45:10.261397Z",
     "start_time": "2023-10-28T09:45:10.258555Z"
    }
   },
   "execution_count": 54,
   "outputs": [
    {
     "data": {
      "text/plain": "'\\nZadanie 1 (4 pkt)\\nWykorzystując dekoratory, napisz cache dla funkcji tetranacci z poprzedniego zadania.\\nTen dekorator powinien zapobiegać przed ponownym obliczaniem tych samych wartości.\\n'"
     },
     "execution_count": 54,
     "metadata": {},
     "output_type": "execute_result"
    }
   ]
  },
  {
   "cell_type": "code",
   "execution_count": 55,
   "outputs": [],
   "source": [
    "def cache_decorator(func):\n",
    "    cache = {}\n",
    "    def wrapper(steps):\n",
    "        if steps not in cache:\n",
    "            cache[steps] = func(steps)\n",
    "            print(f\"Added to cache for steps: {steps} \")\n",
    "        return cache[steps]\n",
    "    return wrapper"
   ],
   "metadata": {
    "collapsed": false,
    "ExecuteTime": {
     "end_time": "2023-10-28T09:45:10.889213Z",
     "start_time": "2023-10-28T09:45:10.887120Z"
    }
   }
  },
  {
   "cell_type": "code",
   "execution_count": 56,
   "outputs": [],
   "source": [
    "@cache_decorator\n",
    "def tetranacci_2(n):\n",
    "    if n <= 3:\n",
    "        return 0\n",
    "    elif n == 4:\n",
    "        return 1\n",
    "    else:\n",
    "        return tetranacci_2(n-1) + tetranacci_2(n-2) + tetranacci_2(n-3) + tetranacci_2(n-4)"
   ],
   "metadata": {
    "collapsed": false,
    "ExecuteTime": {
     "end_time": "2023-10-28T09:45:11.378478Z",
     "start_time": "2023-10-28T09:45:11.375714Z"
    }
   }
  },
  {
   "cell_type": "code",
   "execution_count": 57,
   "outputs": [
    {
     "name": "stdout",
     "output_type": "stream",
     "text": [
      "Added to cache for steps: 4 \n",
      "Added to cache for steps: 3 \n",
      "Added to cache for steps: 2 \n",
      "Added to cache for steps: 1 \n",
      "Added to cache for steps: 5 \n",
      "Added to cache for steps: 6 \n",
      "Added to cache for steps: 7 \n",
      "Added to cache for steps: 8 \n"
     ]
    },
    {
     "data": {
      "text/plain": "8"
     },
     "execution_count": 57,
     "metadata": {},
     "output_type": "execute_result"
    }
   ],
   "source": [
    "tetranacci_2(8)"
   ],
   "metadata": {
    "collapsed": false,
    "ExecuteTime": {
     "end_time": "2023-10-28T09:45:11.794642Z",
     "start_time": "2023-10-28T09:45:11.791265Z"
    }
   }
  },
  {
   "cell_type": "code",
   "source": [
    "'''\n",
    "Zadanie 2 (4 pkt)\n",
    "Zaimplementuj własny generator o nazwie repeat, zwracający obiekt podany przez użytkownika dokładnie N razy.\n",
    "Jeśli wartość parametru N nie została określona, generator powinien zwracać wartości w nieskończoność.\n",
    "\n",
    "PRZYKŁAD\n",
    "repeat(10, 3) → 10 10 10\n",
    "repeat(10, 5) → 10 10 10 10 10\n",
    "repeat(5) → 5 5 5 5 5 5 5 5 5 5 5 5 5 5 5…\n",
    "repeat(5, None) → 5 5 5 5 5 5 5 5 5 5 5 5 5 5 5…\n",
    "'''"
   ],
   "metadata": {
    "id": "Q_Ur2Z9uWF-l",
    "ExecuteTime": {
     "end_time": "2023-10-28T09:45:12.779021Z",
     "start_time": "2023-10-28T09:45:12.776372Z"
    }
   },
   "execution_count": 58,
   "outputs": [
    {
     "data": {
      "text/plain": "'\\nZadanie 2 (4 pkt)\\nZaimplementuj własny generator o nazwie repeat, zwracający obiekt podany przez użytkownika dokładnie N razy.\\nJeśli wartość parametru N nie została określona, generator powinien zwracać wartości w nieskończoność.\\n\\nPRZYKŁAD\\nrepeat(10, 3) → 10 10 10\\nrepeat(10, 5) → 10 10 10 10 10\\nrepeat(5) → 5 5 5 5 5 5 5 5 5 5 5 5 5 5 5…\\nrepeat(5, None) → 5 5 5 5 5 5 5 5 5 5 5 5 5 5 5…\\n'"
     },
     "execution_count": 58,
     "metadata": {},
     "output_type": "execute_result"
    }
   ]
  },
  {
   "cell_type": "code",
   "execution_count": 59,
   "outputs": [],
   "source": [
    "def repeat(obj, n=None):\n",
    "    if n is None:\n",
    "        while True:\n",
    "            yield obj\n",
    "    else:\n",
    "        for i in range(n):\n",
    "            yield obj\n",
    "            \n",
    "r = repeat(10, 3)            "
   ],
   "metadata": {
    "collapsed": false,
    "ExecuteTime": {
     "end_time": "2023-10-28T09:45:13.224614Z",
     "start_time": "2023-10-28T09:45:13.221876Z"
    }
   }
  },
  {
   "cell_type": "code",
   "execution_count": 60,
   "outputs": [
    {
     "name": "stdout",
     "output_type": "stream",
     "text": [
      "10\n"
     ]
    }
   ],
   "source": [
    "print(next(r))"
   ],
   "metadata": {
    "collapsed": false,
    "ExecuteTime": {
     "end_time": "2023-10-28T09:45:13.996666Z",
     "start_time": "2023-10-28T09:45:13.993768Z"
    }
   }
  },
  {
   "cell_type": "code",
   "source": [
    "'''\n",
    "Zadanie 3 (1 pkt)\n",
    "W kodzie z zajęć w klasie Pojazd utwórz atrybut, który niezależnie od utworzonego obiektu będzie miał taką samą wartość.\n",
    "każdy obiekt ma mieć kolor biały\n",
    "'''"
   ],
   "metadata": {
    "id": "gChh80FsWzT7",
    "ExecuteTime": {
     "end_time": "2023-10-28T09:45:14.557382Z",
     "start_time": "2023-10-28T09:45:14.554693Z"
    }
   },
   "execution_count": 61,
   "outputs": [
    {
     "data": {
      "text/plain": "'\\nZadanie 3 (1 pkt)\\nW kodzie z zajęć w klasie Pojazd utwórz atrybut, który niezależnie od utworzonego obiektu będzie miał taką samą wartość.\\nkażdy obiekt ma mieć kolor biały\\n'"
     },
     "execution_count": 61,
     "metadata": {},
     "output_type": "execute_result"
    }
   ]
  },
  {
   "cell_type": "code",
   "execution_count": 62,
   "outputs": [],
   "source": [
    "class Pojazd:\n",
    "    kolor = \"biały\"\n",
    "    \n",
    "    def __init__(self, predkosc_max, przebieg):\n",
    "        self.predkosc_max = predkosc_max\n",
    "        self.przebieg = przebieg"
   ],
   "metadata": {
    "collapsed": false,
    "ExecuteTime": {
     "end_time": "2023-10-28T09:45:15.325800Z",
     "start_time": "2023-10-28T09:45:15.324238Z"
    }
   }
  },
  {
   "cell_type": "code",
   "execution_count": 63,
   "outputs": [
    {
     "name": "stdout",
     "output_type": "stream",
     "text": [
      "biały\n",
      "biały\n"
     ]
    }
   ],
   "source": [
    "pojazd = Pojazd(predkosc_max=100, przebieg=1000)\n",
    "pojazd2 = Pojazd(predkosc_max=100, przebieg=1000)\n",
    "\n",
    "print(pojazd.kolor)\n",
    "print(pojazd2.kolor)"
   ],
   "metadata": {
    "collapsed": false,
    "ExecuteTime": {
     "end_time": "2023-10-28T09:45:15.858955Z",
     "start_time": "2023-10-28T09:45:15.836741Z"
    }
   }
  },
  {
   "cell_type": "code",
   "source": [
    "'''\n",
    "Zadanie 4 (2 pkt)\n",
    "Wykorzystaj klasy Autobus i Pojazd.\n",
    "Zdefiniuj metodę opłata, k†óra będzie miała wartość domyślną liczba_miejsc * 100\n",
    "Jeżeli Pojazd jest instancją Autobusu, opłata ma zostać powiększona o 10% wartości opłaty początkowej.\n",
    "Np. jeżeli autobus domyślnie ma 50 miejsc to opłata całkowita wyniesie 5500\n",
    "'''"
   ],
   "metadata": {
    "id": "Q4Js_zjIXHZi",
    "ExecuteTime": {
     "end_time": "2023-10-28T09:45:16.514947Z",
     "start_time": "2023-10-28T09:45:16.505584Z"
    }
   },
   "execution_count": 64,
   "outputs": [
    {
     "data": {
      "text/plain": "'\\nZadanie 4 (2 pkt)\\nWykorzystaj klasy Autobus i Pojazd.\\nZdefiniuj metodę opłata, k†óra będzie miała wartość domyślną liczba_miejsc * 100\\nJeżeli Pojazd jest instancją Autobusu, opłata ma zostać powiększona o 10% wartości opłaty początkowej.\\nNp. jeżeli autobus domyślnie ma 50 miejsc to opłata całkowita wyniesie 5500\\n'"
     },
     "execution_count": 64,
     "metadata": {},
     "output_type": "execute_result"
    }
   ]
  },
  {
   "cell_type": "code",
   "execution_count": 65,
   "outputs": [],
   "source": [
    "class Pojazd:\n",
    "    def __init__(self, predkosc_max, przebieg, liczba_miejsc):\n",
    "        self.predkosc_max = predkosc_max\n",
    "        self.przebieg = przebieg\n",
    "        self.liczba_miejsc = liczba_miejsc\n",
    "        \n",
    "    def liczba_miejsc(self, liczba_miejsc):\n",
    "        print(f\"Pojazd pomieści {liczba_miejsc} osób.\")\n",
    "        \n",
    "    def oplata(self):\n",
    "        return self.liczba_miejsc * 100\n",
    "        \n",
    "class Autobus(Pojazd):\n",
    "    def __init__(self, predkosc_max, przebieg, model, liczba_miejsc):\n",
    "        super().__init__(predkosc_max, przebieg,liczba_miejsc)\n",
    "        self.model = model\n",
    "        \n",
    "    def liczba_miejsc(self, liczba_miejsc=50):\n",
    "        print(f\"{self.model} pomieści {liczba_miejsc} osób.\")\n",
    "        \n",
    "    def oplata(self):    \n",
    "        return super().oplata() * 1.1"
   ],
   "metadata": {
    "collapsed": false,
    "ExecuteTime": {
     "end_time": "2023-10-28T09:45:17.081184Z",
     "start_time": "2023-10-28T09:45:17.079070Z"
    }
   }
  },
  {
   "cell_type": "code",
   "execution_count": 66,
   "outputs": [
    {
     "data": {
      "text/plain": "1100.0"
     },
     "execution_count": 66,
     "metadata": {},
     "output_type": "execute_result"
    }
   ],
   "source": [
    "autobus = Autobus(predkosc_max=100, przebieg=1000, liczba_miejsc=10, model=\"Solaris\")\n",
    "autobus.oplata()"
   ],
   "metadata": {
    "collapsed": false,
    "ExecuteTime": {
     "end_time": "2023-10-28T09:45:17.732297Z",
     "start_time": "2023-10-28T09:45:17.725853Z"
    }
   }
  },
  {
   "cell_type": "markdown",
   "source": [
    " '''\n",
    "Zadanie 5 (4 pkt)\n",
    "Napisz klasę FunkcjaKwadratowa, która przechowuje funkcje typu $ax^2$+bx+c.\n",
    "Klasa powinna zawierać trzy pola: a, b, c, które są przypisywane w konstruktorze.\n",
    "Główną metodą powinna być rozwiaz(), która zwraca miejsca zerowe podanej funkcji.\n",
    "Należy zwrócić uwagę na przypadki gdy a=0, b=0 lub c=0,\n",
    "a także obmyślić sposób informowania o nieskończonej liczbie, jednym lub zerze rozwiązań.\n",
    "'''\n",
    "\n",
    "'''\n",
    "początek kodu dla ułatwienia\n",
    "\n",
    "'''"
   ],
   "metadata": {
    "collapsed": false
   }
  },
  {
   "cell_type": "code",
   "execution_count": 67,
   "outputs": [
    {
     "name": "stdout",
     "output_type": "stream",
     "text": [
      "main:\n",
      "Funkcja kwadratowa: 2 x² + 3 x + 1\n",
      "1\n",
      "6\n",
      "∞ rozwiązań\n",
      "sprzeczne\n",
      "rozwiązanie: x = -1.5\n",
      "brak rozwiązań\n",
      "rozwiązania: x1 = 3.0, x2 = 2.0\n",
      "rozwiązanie: x = -2.0\n"
     ]
    }
   ],
   "source": [
    "import math\n",
    "\n",
    "class FunkcjaKwadratowa:\n",
    "    def __init__(self, a, b, c):\n",
    "        self.a = a\n",
    "        self.b = b\n",
    "        self.c = c\n",
    "\n",
    "    def wypisz(self):\n",
    "        print(f'Funkcja kwadratowa: {self.a} x² + {self.b} x + {self.c}')\n",
    "\n",
    "    def oblicz_wartosc(self, x):\n",
    "        return self.a * x**2 + self.b * x + self.c\n",
    "\n",
    "    def rozwiaz(self):\n",
    "        if self.a == 0 and self.b == 0 and self.c == 0:\n",
    "            return '∞ rozwiązań'\n",
    "        elif self.a == 0 and self.b == 0:\n",
    "            return 'sprzeczne'\n",
    "        elif self.a == 0:\n",
    "            x1 = -self.c / self.b\n",
    "            return f'rozwiązanie: x = {x1}'\n",
    "        else:\n",
    "            delta = self.b**2 - 4 * self.a * self.c\n",
    "            if delta > 0:\n",
    "                x1 = (-self.b + math.sqrt(delta)) / (2 * self.a)\n",
    "                x2 = (-self.b - math.sqrt(delta)) / (2 * self.a)\n",
    "                return f'rozwiązania: x1 = {x1}, x2 = {x2}'\n",
    "            elif delta == 0:\n",
    "                x1 = -self.b / (2 * self.a)\n",
    "                return f'rozwiązanie: x = {x1}'\n",
    "            else:\n",
    "                return 'brak rozwiązań'\n",
    "\n",
    "def main():\n",
    "    print(\"main:\")\n",
    "    f1 = FunkcjaKwadratowa(2, 3, 1)\n",
    "    f1.wypisz()\n",
    "    print(f1.oblicz_wartosc(0))\n",
    "    print(f1.oblicz_wartosc(1))\n",
    "\n",
    "    print(FunkcjaKwadratowa(0, 0, 0).rozwiaz())\n",
    "    print(FunkcjaKwadratowa(0, 0, 1).rozwiaz())\n",
    "    print(FunkcjaKwadratowa(0, 2, 3).rozwiaz())\n",
    "    print(FunkcjaKwadratowa(1, 2, 3).rozwiaz())\n",
    "    print(FunkcjaKwadratowa(1, -5, 6).rozwiaz())\n",
    "    print(FunkcjaKwadratowa(1, 4, 4).rozwiaz())\n",
    "\n",
    "if __name__ == \"__main__\":\n",
    "    main()"
   ],
   "metadata": {
    "collapsed": false,
    "ExecuteTime": {
     "end_time": "2023-10-28T09:45:18.846339Z",
     "start_time": "2023-10-28T09:45:18.826063Z"
    }
   }
  },
  {
   "cell_type": "code",
   "execution_count": null,
   "outputs": [],
   "source": [],
   "metadata": {
    "collapsed": false
   }
  }
 ]
}
